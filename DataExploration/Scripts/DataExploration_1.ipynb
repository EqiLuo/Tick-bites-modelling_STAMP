{
 "cells": [
  {
   "cell_type": "code",
   "execution_count": 2,
   "metadata": {},
   "outputs": [],
   "source": [
    "import pandas as pd\n",
    "import numpy as np\n",
    "from sklearn import preprocessing\n",
    "import matplotlib.pyplot as plt \n",
    "plt.rc(\"font\", size=14)\n",
    "\n",
    "from sklearn.linear_model import LogisticRegression\n",
    "from sklearn.model_selection import train_test_split\n",
    "import seaborn as sns\n",
    "sns.set(style=\"white\")\n",
    "sns.set(style=\"whitegrid\", color_codes=True)\n",
    "\n"
   ]
  },
  {
   "cell_type": "code",
   "execution_count": 3,
   "metadata": {
    "scrolled": true
   },
   "outputs": [
    {
     "name": "stdout",
     "output_type": "stream",
     "text": [
      "(26314, 5)\n",
      "        month  Age_group  activity  land_use  tickbite_status\n",
      "0        July          3         4        61             True\n",
      "1        July          3         4        61             True\n",
      "2        June          3         4        61             True\n",
      "3      August          3         4        61             True\n",
      "4        July          2         4        61             True\n",
      "...       ...        ...       ...       ...              ...\n",
      "26309    June          2         2        60             True\n",
      "26310  August          2         5        20             True\n",
      "26311    July          2         3        20             True\n",
      "26312    July          1         1        20             True\n",
      "26313  August          1         1        20             True\n",
      "\n",
      "[26314 rows x 5 columns]\n"
     ]
    }
   ],
   "source": [
    "df = pd.read_csv(r\"C:\\UPM\\EC Spatial Temporal Analysis\\GROUP PROJECT\\Data\\Pre_processing\\Data exploration_ABM\\tickbites_truth_cleaned.csv\")\n",
    "print(df.shape)\n",
    "\n",
    "print(df)\n"
   ]
  },
  {
   "cell_type": "code",
   "execution_count": 4,
   "metadata": {},
   "outputs": [
    {
     "data": {
      "text/html": [
       "<div>\n",
       "<style scoped>\n",
       "    .dataframe tbody tr th:only-of-type {\n",
       "        vertical-align: middle;\n",
       "    }\n",
       "\n",
       "    .dataframe tbody tr th {\n",
       "        vertical-align: top;\n",
       "    }\n",
       "\n",
       "    .dataframe thead th {\n",
       "        text-align: right;\n",
       "    }\n",
       "</style>\n",
       "<table border=\"1\" class=\"dataframe\">\n",
       "  <thead>\n",
       "    <tr style=\"text-align: right;\">\n",
       "      <th></th>\n",
       "      <th>Age_group</th>\n",
       "      <th>activity</th>\n",
       "      <th>land_use</th>\n",
       "    </tr>\n",
       "  </thead>\n",
       "  <tbody>\n",
       "    <tr>\n",
       "      <th>count</th>\n",
       "      <td>26314.000000</td>\n",
       "      <td>26314.000000</td>\n",
       "      <td>26314.000000</td>\n",
       "    </tr>\n",
       "    <tr>\n",
       "      <th>mean</th>\n",
       "      <td>1.864293</td>\n",
       "      <td>2.243825</td>\n",
       "      <td>44.738466</td>\n",
       "    </tr>\n",
       "    <tr>\n",
       "      <th>std</th>\n",
       "      <td>0.592084</td>\n",
       "      <td>1.646316</td>\n",
       "      <td>19.510309</td>\n",
       "    </tr>\n",
       "    <tr>\n",
       "      <th>min</th>\n",
       "      <td>1.000000</td>\n",
       "      <td>1.000000</td>\n",
       "      <td>20.000000</td>\n",
       "    </tr>\n",
       "    <tr>\n",
       "      <th>25%</th>\n",
       "      <td>1.000000</td>\n",
       "      <td>1.000000</td>\n",
       "      <td>20.000000</td>\n",
       "    </tr>\n",
       "    <tr>\n",
       "      <th>50%</th>\n",
       "      <td>2.000000</td>\n",
       "      <td>2.000000</td>\n",
       "      <td>60.000000</td>\n",
       "    </tr>\n",
       "    <tr>\n",
       "      <th>75%</th>\n",
       "      <td>2.000000</td>\n",
       "      <td>3.000000</td>\n",
       "      <td>60.000000</td>\n",
       "    </tr>\n",
       "    <tr>\n",
       "      <th>max</th>\n",
       "      <td>3.000000</td>\n",
       "      <td>7.000000</td>\n",
       "      <td>62.000000</td>\n",
       "    </tr>\n",
       "  </tbody>\n",
       "</table>\n",
       "</div>"
      ],
      "text/plain": [
       "          Age_group      activity      land_use\n",
       "count  26314.000000  26314.000000  26314.000000\n",
       "mean       1.864293      2.243825     44.738466\n",
       "std        0.592084      1.646316     19.510309\n",
       "min        1.000000      1.000000     20.000000\n",
       "25%        1.000000      1.000000     20.000000\n",
       "50%        2.000000      2.000000     60.000000\n",
       "75%        2.000000      3.000000     60.000000\n",
       "max        3.000000      7.000000     62.000000"
      ]
     },
     "execution_count": 4,
     "metadata": {},
     "output_type": "execute_result"
    }
   ],
   "source": [
    "df.describe()"
   ]
  },
  {
   "cell_type": "code",
   "execution_count": 5,
   "metadata": {},
   "outputs": [
    {
     "name": "stdout",
     "output_type": "stream",
     "text": [
      "<class 'pandas.core.frame.DataFrame'>\n",
      "RangeIndex: 26314 entries, 0 to 26313\n",
      "Data columns (total 5 columns):\n",
      " #   Column           Non-Null Count  Dtype \n",
      "---  ------           --------------  ----- \n",
      " 0   month            26314 non-null  object\n",
      " 1   Age_group        26314 non-null  int64 \n",
      " 2   activity         26314 non-null  int64 \n",
      " 3   land_use         26314 non-null  int64 \n",
      " 4   tickbite_status  26314 non-null  bool  \n",
      "dtypes: bool(1), int64(3), object(1)\n",
      "memory usage: 848.1+ KB\n"
     ]
    }
   ],
   "source": [
    "df.info()"
   ]
  },
  {
   "cell_type": "code",
   "execution_count": 6,
   "metadata": {},
   "outputs": [
    {
     "data": {
      "text/plain": [
       "tickbite_status    0\n",
       "land_use           0\n",
       "activity           0\n",
       "Age_group          0\n",
       "month              0\n",
       "dtype: int64"
      ]
     },
     "execution_count": 6,
     "metadata": {},
     "output_type": "execute_result"
    }
   ],
   "source": [
    "# check if there are missing values \n",
    "df.isnull().sum().sort_values(ascending=False)"
   ]
  },
  {
   "cell_type": "code",
   "execution_count": 7,
   "metadata": {},
   "outputs": [
    {
     "name": "stdout",
     "output_type": "stream",
     "text": [
      "<class 'pandas.core.frame.DataFrame'>\n",
      "RangeIndex: 26314 entries, 0 to 26313\n",
      "Data columns (total 5 columns):\n",
      " #   Column           Non-Null Count  Dtype \n",
      "---  ------           --------------  ----- \n",
      " 0   month            26314 non-null  object\n",
      " 1   Age_group        26314 non-null  object\n",
      " 2   activity         26314 non-null  object\n",
      " 3   land_use         26314 non-null  object\n",
      " 4   tickbite_status  26314 non-null  int32 \n",
      "dtypes: int32(1), object(4)\n",
      "memory usage: 925.2+ KB\n"
     ]
    }
   ],
   "source": [
    "df['Age_group'] = df['Age_group'].astype('str')\n",
    "df['activity'] = df['activity'].astype('str')\n",
    "df['land_use'] = df['land_use'].astype('str')\n",
    "df['tickbite_status'] = df['tickbite_status'].astype('int')\n",
    "df.info()"
   ]
  },
  {
   "cell_type": "code",
   "execution_count": 8,
   "metadata": {},
   "outputs": [
    {
     "name": "stdout",
     "output_type": "stream",
     "text": [
      "['July' 'June' 'August' 'May' 'September' 'October' 'March' 'April'\n",
      " 'December' 'November' 'January' 'February']\n",
      "['3' '2' '1']\n",
      "['4' '2' '7' '5' '3' '6' '1']\n",
      "['61' '60' '62' '20']\n"
     ]
    }
   ],
   "source": [
    "print(df['month'].unique())\n",
    "print(df['Age_group'].unique())\n",
    "print(df['activity'].unique())\n",
    "print(df['land_use'].unique())"
   ]
  },
  {
   "cell_type": "code",
   "execution_count": 9,
   "metadata": {},
   "outputs": [
    {
     "name": "stdout",
     "output_type": "stream",
     "text": [
      "        month Age_group activity land_use  tickbite_status\n",
      "0        July         3        4       61                1\n",
      "1        July         3        4       61                1\n",
      "2        June         3        4       61                1\n",
      "3      August         3        4       61                1\n",
      "4        July         2        4       61                1\n",
      "...       ...       ...      ...      ...              ...\n",
      "26309    June         2        2       60                1\n",
      "26310  August         2        5       20                1\n",
      "26311    July         2        3       20                1\n",
      "26312    July         1        1       20                1\n",
      "26313  August         1        1       20                1\n",
      "\n",
      "[26314 rows x 5 columns]\n"
     ]
    }
   ],
   "source": [
    "print(df)"
   ]
  },
  {
   "cell_type": "markdown",
   "metadata": {},
   "source": [
    "# Visulization "
   ]
  },
  {
   "cell_type": "code",
   "execution_count": 10,
   "metadata": {},
   "outputs": [
    {
     "name": "stdout",
     "output_type": "stream",
     "text": [
      "           tickbite_status\n",
      "month                     \n",
      "April                 1494\n",
      "August                2728\n",
      "December                94\n",
      "February                69\n",
      "January                 55\n",
      "July                  6771\n",
      "June                  8339\n",
      "March                  391\n",
      "May                   3898\n",
      "November               319\n",
      "October                963\n",
      "September             1193\n"
     ]
    }
   ],
   "source": [
    "# group by month\n",
    "month = df.groupby(['month']).sum()\n",
    "print(month)"
   ]
  },
  {
   "cell_type": "code",
   "execution_count": 11,
   "metadata": {},
   "outputs": [
    {
     "name": "stdout",
     "output_type": "stream",
     "text": [
      "           tickbite_status\n",
      "month                     \n",
      "January                 55\n",
      "February                69\n",
      "March                  391\n",
      "April                 1494\n",
      "May                   3898\n",
      "June                  8339\n",
      "July                  6771\n",
      "August                2728\n",
      "September             1193\n",
      "October                963\n",
      "November               319\n",
      "December                94\n",
      "<class 'pandas.core.frame.DataFrame'>\n",
      "Index: 12 entries, January to December\n",
      "Data columns (total 1 columns):\n",
      " #   Column           Non-Null Count  Dtype\n",
      "---  ------           --------------  -----\n",
      " 0   tickbite_status  12 non-null     int32\n",
      "dtypes: int32(1)\n",
      "memory usage: 144.0+ bytes\n",
      "None\n"
     ]
    }
   ],
   "source": [
    "new_order = ['January', 'February', 'March', 'April', 'May', 'June', 'July', 'August', 'September', 'October', 'November', 'December']\n",
    "month = month.reindex(new_order, axis=0)\n",
    "print(month)\n",
    "print(month.info())"
   ]
  },
  {
   "cell_type": "code",
   "execution_count": 12,
   "metadata": {},
   "outputs": [
    {
     "name": "stdout",
     "output_type": "stream",
     "text": [
      "           tickbite_status\n",
      "Age_group                 \n",
      "1                     6640\n",
      "2                    16605\n",
      "3                     3069\n",
      "          tickbite_status\n",
      "activity                 \n",
      "1                   12138\n",
      "2                    6016\n",
      "3                    3863\n",
      "4                    1538\n",
      "5                     687\n",
      "6                     806\n",
      "7                    1266\n",
      "          tickbite_status\n",
      "land_use                 \n",
      "20                  10089\n",
      "60                  14578\n",
      "61                   1326\n",
      "62                    321\n"
     ]
    }
   ],
   "source": [
    "# group by age\n",
    "age = df.groupby(['Age_group']).sum()\n",
    "print(age)\n",
    "\n",
    "# group by activity \n",
    "activity = df.groupby(['activity']).sum()\n",
    "print(activity)\n",
    "\n",
    "# group by land-use type\n",
    "landuse = df.groupby(['land_use']).sum()\n",
    "print(landuse)"
   ]
  },
  {
   "cell_type": "code",
   "execution_count": 13,
   "metadata": {},
   "outputs": [],
   "source": [
    "label_age =['Children','Adults','Elderly']\n",
    "label_activity = ['Walking','Gardening','Playing','Walking dog','Picnic','Pro-Garden','Others']\n",
    "label_landuse = ['Residential','Forest','Dunes','Others']\n"
   ]
  },
  {
   "cell_type": "code",
   "execution_count": 23,
   "metadata": {},
   "outputs": [
    {
     "data": {
      "image/png": "[encoded data removed]",
      "text/plain": [
       "<Figure size 360x360 with 1 Axes>"
      ]
     },
     "metadata": {},
     "output_type": "display_data"
    }
   ],
   "source": [
    "fig, axs = plt.subplots(1, 1,figsize=(5,5) )\n",
    "axs.pie(age['tickbite_status'], labels=age['tickbite_status'],autopct='%0.f%%', startangle=90)\n",
    "axs.legend(label_age,loc=\"best\")\n",
    "axs.axis('equal')\n",
    "axs.set_title('The distribution of tick bites among different age groups',fontsize=14,y=1.05)\n",
    "\n",
    "plt.savefig(r\"C:\\UPM\\EC Spatial Temporal Analysis\\GROUP PROJECT\\Data\\Pre_processing\\Data exploration_ABM\\tickbites_age.png\",dpi=300)"
   ]
  },
  {
   "cell_type": "code",
   "execution_count": 15,
   "metadata": {},
   "outputs": [
    {
     "name": "stdout",
     "output_type": "stream",
     "text": [
      "        month Age_group activity land_use  tickbite_status\n",
      "0        July         3        4       61                1\n",
      "1        July         3        4       61                1\n",
      "2        June         3        4       61                1\n",
      "3      August         3        4       61                1\n",
      "4        July         2        4       61                1\n",
      "...       ...       ...      ...      ...              ...\n",
      "26309    June         2        2       60                1\n",
      "26310  August         2        5       20                1\n",
      "26311    July         2        3       20                1\n",
      "26312    July         1        1       20                1\n",
      "26313  August         1        1       20                1\n",
      "\n",
      "[26314 rows x 5 columns]\n"
     ]
    }
   ],
   "source": [
    "print(df)"
   ]
  },
  {
   "cell_type": "code",
   "execution_count": 16,
   "metadata": {},
   "outputs": [],
   "source": [
    "table = pd.pivot_table(df, values='tickbite_status', index=['activity'],\n",
    "                    columns=['land_use'], aggfunc=np.sum)"
   ]
  },
  {
   "cell_type": "code",
   "execution_count": 17,
   "metadata": {
    "scrolled": true
   },
   "outputs": [
    {
     "name": "stdout",
     "output_type": "stream",
     "text": [
      "land_use    20    60   61   62\n",
      "activity                      \n",
      "1         1763  9505  815   55\n",
      "2         5576   346   80   14\n",
      "3         1593  2050  189   31\n",
      "4          399  1057   44   38\n",
      "5          150   461   57   19\n",
      "6          254   473   67   12\n",
      "7          354   686   74  152\n"
     ]
    }
   ],
   "source": [
    "table = table.fillna(0)\n",
    "table = table.astype('int')\n",
    "print(table)"
   ]
  },
  {
   "cell_type": "code",
   "execution_count": 18,
   "metadata": {
    "scrolled": false
   },
   "outputs": [
    {
     "name": "stdout",
     "output_type": "stream",
     "text": [
      "[[1763 9505  815   55]\n",
      " [5576  346   80   14]\n",
      " [1593 2050  189   31]\n",
      " [ 399 1057   44   38]\n",
      " [ 150  461   57   19]\n",
      " [ 254  473   67   12]\n",
      " [ 354  686   74  152]]\n"
     ]
    }
   ],
   "source": [
    "array = table.to_numpy()\n",
    "print(array)"
   ]
  },
  {
   "cell_type": "code",
   "execution_count": 19,
   "metadata": {},
   "outputs": [],
   "source": [
    "totalsum = array.sum()\n",
    "\n",
    "new_array = np.round((array/totalsum)*100,2)"
   ]
  },
  {
   "cell_type": "code",
   "execution_count": 20,
   "metadata": {},
   "outputs": [
    {
     "name": "stdout",
     "output_type": "stream",
     "text": [
      "[[ 6.7  36.12  3.1   0.21]\n",
      " [21.19  1.31  0.3   0.05]\n",
      " [ 6.05  7.79  0.72  0.12]\n",
      " [ 1.52  4.02  0.17  0.14]\n",
      " [ 0.57  1.75  0.22  0.07]\n",
      " [ 0.97  1.8   0.25  0.05]\n",
      " [ 1.35  2.61  0.28  0.58]]\n"
     ]
    }
   ],
   "source": [
    "print(new_array)"
   ]
  },
  {
   "cell_type": "code",
   "execution_count": 24,
   "metadata": {},
   "outputs": [
    {
     "data": {
      "image/png": "[encoded data removed]",
      "text/plain": [
       "<Figure size 504x432 with 2 Axes>"
      ]
     },
     "metadata": {},
     "output_type": "display_data"
    }
   ],
   "source": [
    "sns.set()\n",
    "fig, ax = plt.subplots(1,1,figsize=(7,6))\n",
    "ax = sns.heatmap(new_array,cmap=\"YlOrRd\",annot=True,fmt='')\n",
    "ax.set_yticklabels(label_activity, rotation = 0, fontsize = 9)\n",
    "ax.set_xticklabels(label_landuse, rotation = 0, fontsize = 9)\n",
    "ax.set_title(\"The relative risk level of different activities and land-use types (%)\",fontsize =14)\n",
    "plt.savefig(r\"C:\\UPM\\EC Spatial Temporal Analysis\\GROUP PROJECT\\Data\\Pre_processing\\Data exploration_ABM\\tickbites_activity_landuse.png\",dpi=300)"
   ]
  },
  {
   "cell_type": "code",
   "execution_count": null,
   "metadata": {},
   "outputs": [],
   "source": []
  },
  {
   "cell_type": "code",
   "execution_count": null,
   "metadata": {},
   "outputs": [],
   "source": []
  },
  {
   "cell_type": "code",
   "execution_count": null,
   "metadata": {},
   "outputs": [],
   "source": []
  },
  {
   "cell_type": "code",
   "execution_count": null,
   "metadata": {},
   "outputs": [],
   "source": []
  }
 ],
 "metadata": {
  "kernelspec": {
   "display_name": "Python 3",
   "language": "python",
   "name": "python3"
  },
  "language_info": {
   "codemirror_mode": {
    "name": "ipython",
    "version": 3
   },
   "file_extension": ".py",
   "mimetype": "text/x-python",
   "name": "python",
   "nbconvert_exporter": "python",
   "pygments_lexer": "ipython3",
   "version": "3.7.6"
  }
 },
 "nbformat": 4,
 "nbformat_minor": 4
}
